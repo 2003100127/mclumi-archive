{
 "cells": [
  {
   "cell_type": "markdown",
   "id": "ca8afb40",
   "metadata": {
    "pycharm": {
     "name": "#%% md\n"
    }
   },
   "source": [
    "# dedup_basic usage"
   ]
  },
  {
   "cell_type": "markdown",
   "source": [
    "### pip install mclumix"
   ],
   "metadata": {
    "collapsed": false,
    "pycharm": {
     "name": "#%% md\n"
    }
   }
  },
  {
   "cell_type": "code",
   "execution_count": null,
   "id": "13571655",
   "metadata": {
    "pycharm": {
     "name": "#%%\n",
     "is_executing": true
    }
   },
   "outputs": [],
   "source": [
    "from mclumi.deduplicate.monomer.DedupBasic import dedupBasic"
   ]
  },
  {
   "cell_type": "code",
   "execution_count": null,
   "id": "3af867e4",
   "metadata": {
    "pycharm": {
     "name": "#%%\n"
    }
   },
   "outputs": [],
   "source": [
    "umikit = dedupBasic(\n",
    "        mode='internal',\n",
    "\n",
    "        # method='unique',\n",
    "        # method='cluster',\n",
    "        # method='adjacency',\n",
    "        # method='directional',\n",
    "        method='mcl',\n",
    "        # method='mcl_val',\n",
    "        # method='mcl_ed',\n",
    "\n",
    "        bam_fpn='example/data/example_bundle.bam',\n",
    "        mcl_fold_thres=1.5,\n",
    "        inflat_val=1.6,\n",
    "        exp_val=2,\n",
    "        iter_num=100,\n",
    "        verbose=True,\n",
    "        ed_thres=1,\n",
    "        is_sv=False,\n",
    "        sv_fpn='example/data/basic/assigned_sorted_dedup.bam',\n",
    "    )"
   ]
  },
  {
   "cell_type": "code",
   "execution_count": null,
   "id": "9ff31d6b",
   "metadata": {
    "pycharm": {
     "name": "#%%\n"
    }
   },
   "outputs": [],
   "source": [
    "run Mclumi internally.\n",
    "22/10/2021 20:09:44 logger: ===>reading the bam file... /home/students/j.sun/store/software/us/mcl/mclumi/example/data/example_bundle.bam\n",
    "[E::idx_find_and_load] Could not retrieve index file for '/home/students/j.sun/store/software/us/mcl/mclumi/example/data/example_bundle.bam'\n",
    "22/10/2021 20:09:44 logger: ===>reading BAM time: 0.00s\n",
    "22/10/2021 20:09:44 logger: =========>start converting bam to df...\n",
    "22/10/2021 20:09:53 logger: =========>time to df: 8.247s\n",
    "22/10/2021 20:09:53 logger: ======># of raw reads: 1175027\n",
    "22/10/2021 20:09:53 logger: ======># of reads with qualified chrs: 1175027\n",
    "22/10/2021 20:09:53 logger: ======># of unique umis: 1949\n",
    "22/10/2021 20:09:53 logger: ======># of redundant umis: 1175027\n",
    "22/10/2021 20:09:53 logger: ======>edit distance thres: 1\n",
    "22/10/2021 20:09:53 logger: ===>start building umi graphs...\n",
    "22/10/2021 20:10:35 logger: ===>time for building umi graphs: 41.11s\n",
    "22/10/2021 20:10:35 logger: ===>start deduplication by the mcl method...\n",
    "22/10/2021 20:10:41 logger: ======>finish finding deduplicated umis in 6.17s\n",
    "22/10/2021 20:10:41 logger: ======># of umis deduplicated to be 44\n",
    "22/10/2021 20:10:41 logger: ======>calculate average edit distances between umis...\n",
    "22/10/2021 20:10:41 logger: ======>finish calculating ave eds in 0.00s\n",
    "22/10/2021 20:10:41 logger: ======># of deduplicated unique umis 1905 on the basis of the unique method\n",
    "22/10/2021 20:10:41 logger: ======># of deduplicated reads 1116981 on the basis of the unique method\n",
    "5.0    1\n",
    "Name: ave_eds, dtype: int64\n",
    "22/10/2021 20:10:41 logger: ======>start writing deduplicated reads to BAM...\n",
    "22/10/2021 20:10:41 logger: ======># of the total reads left after deduplication: 44\n",
    "22/10/2021 20:10:41 logger: ======>finish writing in 0.00s\n"
   ]
  }
 ],
 "metadata": {
  "kernelspec": {
   "display_name": "Python [conda env:deepumi] *",
   "language": "python",
   "name": "conda-env-deepumi-py"
  },
  "language_info": {
   "codemirror_mode": {
    "name": "ipython",
    "version": 3
   },
   "file_extension": ".py",
   "mimetype": "text/x-python",
   "name": "python",
   "nbconvert_exporter": "python",
   "pygments_lexer": "ipython3",
   "version": "3.7.11"
  }
 },
 "nbformat": 4,
 "nbformat_minor": 5
}