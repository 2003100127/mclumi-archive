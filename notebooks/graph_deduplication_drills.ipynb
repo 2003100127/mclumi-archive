{
 "cells": [
  {
   "cell_type": "markdown",
   "id": "eebfef2f",
   "metadata": {},
   "source": [
    "# graph-based UMI deduplication drills"
   ]
  },
  {
   "cell_type": "markdown",
   "id": "53d6cb87",
   "metadata": {},
   "source": [
    "..."
   ]
  },
  {
   "cell_type": "code",
   "execution_count": null,
   "id": "cda732d2",
   "metadata": {},
   "outputs": [],
   "source": []
  }
 ],
 "metadata": {
  "kernelspec": {
   "display_name": "Python [conda env:deepumi] *",
   "language": "python",
   "name": "conda-env-deepumi-py"
  },
  "language_info": {
   "codemirror_mode": {
    "name": "ipython",
    "version": 3
   },
   "file_extension": ".py",
   "mimetype": "text/x-python",
   "name": "python",
   "nbconvert_exporter": "python",
   "pygments_lexer": "ipython3",
   "version": "3.7.11"
  }
 },
 "nbformat": 4,
 "nbformat_minor": 5
}
