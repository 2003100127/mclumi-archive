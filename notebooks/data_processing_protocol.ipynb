{
 "cells": [
  {
   "cell_type": "markdown",
   "id": "155e600d",
   "metadata": {
    "pycharm": {
     "name": "#%% md\n"
    }
   },
   "source": [
    "# data processing and protocol"
   ]
  },
  {
   "cell_type": "markdown",
   "id": "2f65a315",
   "metadata": {
    "pycharm": {
     "name": "#%% md\n"
    }
   },
   "source": [
    "## download example data"
   ]
  },
  {
   "cell_type": "markdown",
   "id": "079aebeb",
   "metadata": {
    "pycharm": {
     "name": "#%% md\n"
    }
   },
   "source": [
    "wget https://github.com/cribbslab/mclumi/releases/download/v0.0.1/example_bundle.bam\n",
    "\n",
    "wget https://github.com/cribbslab/mclumi/releases/download/sc_ex_hgmm_100/hgmm_100_STAR_FC_sorted.bam\n",
    "\n",
    "wget https://github.com/cribbslab/mclumi/releases/download/exfastq/pcr_1.fastq.gz"
   ]
  },
  {
   "cell_type": "markdown",
   "id": "631ae3fb",
   "metadata": {
    "pycharm": {
     "name": "#%% md\n"
    }
   },
   "source": [
    "# bam file"
   ]
  },
  {
   "cell_type": "markdown",
   "id": "d54fabbe",
   "metadata": {
    "pycharm": {
     "name": "#%% md\n"
    }
   },
   "source": [
    "#### 1.1 example_bundle.bam contains a PO tag to denote which position a read belongs to.\n",
    "#### 1.2 To enable the dedup_pos module, the bam file has to be constructed this way."
   ]
  },
  {
   "cell_type": "markdown",
   "id": "14831a86",
   "metadata": {
    "pycharm": {
     "name": "#%% md\n"
    }
   },
   "source": [
    "#### 2.1 hgmm_100_STAR_FC_sorted.bam contains XS and XT tags by featureCounts with query_name having a barcode first and a umi then separated by '_'.\n",
    "#### 2.2 To enable the dedup_sc module, the bam file has to be constructed this way. The dedup_sc module can be used for single-cell RNA-seq analysis."
   ]
  },
  {
   "cell_type": "markdown",
   "id": "616d8517",
   "metadata": {
    "pycharm": {
     "name": "#%% md\n"
    }
   },
   "source": [
    "#### 3.1 hgmm_100_STAR_FC_sorted.bam contains XS and XT tags by featureCounts with query_name having mandatorily a umi at the end separated by '_'.\n",
    "#### 3.2 To enable the dedup_gene module, the bam file has to be constructed this way. The dedup_gene module can be used for bulk RNA-seq analysis."
   ]
  },
  {
   "cell_type": "markdown",
   "id": "a03f93b0",
   "metadata": {
    "pycharm": {
     "name": "#%% md\n"
    }
   },
   "source": [
    "#### 4.1 To enable the dedup_basic module, Mclumi will take all reads in a bam file as being at single one genomic position denoted automatically, followed by deduplication. The dedup_gene module can be used for testing or other unclear requirements."
   ]
  }
 ],
 "metadata": {
  "kernelspec": {
   "display_name": "Python [conda env:deepumi] *",
   "language": "python",
   "name": "conda-env-deepumi-py"
  },
  "language_info": {
   "codemirror_mode": {
    "name": "ipython",
    "version": 3
   },
   "file_extension": ".py",
   "mimetype": "text/x-python",
   "name": "python",
   "nbconvert_exporter": "python",
   "pygments_lexer": "ipython3",
   "version": "3.7.11"
  }
 },
 "nbformat": 4,
 "nbformat_minor": 5
}