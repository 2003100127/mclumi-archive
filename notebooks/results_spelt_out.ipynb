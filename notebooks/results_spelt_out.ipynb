{
 "cells": [
  {
   "cell_type": "markdown",
   "id": "96b2c7c4",
   "metadata": {},
   "source": [
    "# Spelling out results"
   ]
  },
  {
   "cell_type": "markdown",
   "id": "f1a517f8",
   "metadata": {},
   "source": [
    "Running each of the dedup_basic, dedup_pos, dedup_gene and dedup_sc modules leads to three output files;\n",
    "1. {method}_ave_ed_pos_bin.txt\n",
    "2. {method}_dedup_sum.txt\n",
    "3. {name}_dedup.bam\n",
    "\n",
    "{method} is automatically named by uniq, cc, adj, direc, mcl, mcl_val, or mcl_ed.{name} can be designated by users."
   ]
  },
  {
   "cell_type": "markdown",
   "id": "f71cb41d",
   "metadata": {},
   "source": [
    "## {method}_ave_ed_pos_bin.txt"
   ]
  },
  {
   "cell_type": "markdown",
   "id": "64fe43da",
   "metadata": {},
   "source": [
    "-1.0\t52978\n",
    "1.0\t2\n",
    "2.0\t7\n",
    "3.0\t36\n",
    "4.0\t302\n",
    "5.0\t997\n",
    "6.0\t2804\n",
    "7.0\t8372\n",
    "8.0\t31078\n",
    "9.0\t5374\n",
    "10.0\t892\n",
    "..."
   ]
  },
  {
   "cell_type": "markdown",
   "id": "7e99c1d5",
   "metadata": {},
   "source": [
    "the first column: average edit distance between UMIs at genomic positions\n",
    "\n",
    "the second column: the number of genomic positions\n",
    "\n",
    "Note: \n",
    "1. -1.0 stands for only one unique umi seen at a single genomic position; in total there are 3653 genomic positions seen with one unique umi.\n",
    "2. interpret the fifth row: the number of genomic positions observed with an average edit distance 4 between UMIs is 302."
   ]
  },
  {
   "cell_type": "markdown",
   "id": "6d888a69",
   "metadata": {},
   "source": [
    "## {method}_dedup_sum.txt for single-cell data"
   ]
  },
  {
   "cell_type": "code",
   "execution_count": null,
   "id": "082739f9",
   "metadata": {},
   "outputs": [],
   "source": [
    "type\tdirec_umi_len\tave_eds\tuniq_umi_len\tdedup_uniq_diff_pos\tdedup_read_diff_pos\n",
    "('AAAGATGAGAAACGAG', 'exon-NM_000099.4-3')\t6\t8.0\t6\t0\t0\n",
    "('AAAGATGAGAAACGAG', 'exon-NM_000100.4-3')\t14\t8.0\t14\t0\t0\n",
    "('AAAGATGAGAAACGAG', 'exon-NM_000101.4-6')\t3\t8.0\t3\t0\t0\n",
    "('AAAGATGAGAAACGAG', 'exon-NM_000146.4-3')\t2\t8.0\t2\t0\t0\n",
    "('AAAGATGAGAAACGAG', 'exon-NM_000146.4-4')\t44\t8.0\t44\t0\t0\n",
    "('AAAGATGAGAAACGAG', 'exon-NM_000156.6-6')\t8\t8.0\t8\t0\t0\n",
    "('AAAGATGAGAAACGAG', 'exon-NM_000194.3-9')\t3\t8.0\t3\t0\t0\n",
    "('AAAGATGAGAAACGAG', 'exon-NM_000232.5-6')\t1\t-1.0\t1\t0\t0\n",
    "('AAAGATGAGAAACGAG', 'exon-NM_000270.4-6')\t1\t-1.0\t1\t0\t0\n",
    "('AAAGATGAGAAACGAG', 'exon-NM_000291.4-11')\t3\t8.0\t3\t0\t0\n",
    "('AAAGATGAGAAACGAG', 'exon-NM_000317.3-6')\t2\t8.0\t2\t0\t0\n",
    "('AAAGATGAGAAACGAG', 'exon-NM_000363.5-7')\t1\t-1.0\t1\t0\t0\n",
    "('AAAGATGAGAAACGAG', 'exon-NM_000386.4-12')\t2\t6.0\t2\t0\t0\n",
    "('AAAGATGAGAAACGAG', 'exon-NM_000454.5-4')\t1\t-1.0\t1\t0\t0\n",
    "('AAAGATGAGAAACGAG', 'exon-NM_000454.5-5')\t19\t8.0\t19\t0\t0\n",
    "('AAAGATGAGAAACGAG', 'exon-NM_000455.5-10')\t1\t-1.0\t1\t0\t0\n",
    "('AAAGATGAGAAACGAG', 'exon-NM_000485.3-5')\t2\t9.0\t2\t0\t0\n",
    "('AAAGATGAGAAACGAG', 'exon-NM_000538.4-3')\t2\t8.0\t2\t0\t0\n",
    "('AAAGATGAGAAACGAG', 'exon-NM_000599.4-1')\t1\t-1.0\t1\t0\t0\n",
    "('AAAGATGAGAAACGAG', 'exon-NM_000613.3-3')\t1\t-1.0\t1\t0\t0\n",
    "('AAAGATGAGAAACGAG', 'exon-NM_000613.3-4')\t2\t8.0\t3\t1\t1\n",
    "('AAAGATGAGAAACGAG', 'exon-NM_000713.3-4')\t1\t-1.0\t1\t0\t0\n",
    "('AAAGATGAGAAACGAG', 'exon-NM_000713.3-5')\t2\t7.0\t2\t0\t0\n",
    "('AAAGATGAGAAACGAG', 'exon-NM_000728.4-5')\t1\t-1.0\t1\t0\t0\n",
    "('AAAGATGAGAAACGAG', 'exon-NM_000852.4-6')\t2\t7.0\t2\t0\t0\n",
    "('AAAGATGAGAAACGAG', 'exon-NM_000852.4-7')\t15\t8.0\t15\t0\t0\n",
    "('AAAGATGAGAAACGAG', 'exon-NM_000876.4-48')\t1\t-1.0\t1\t0\t0\n",
    "('AAAGATGAGAAACGAG', 'exon-NM_000937.5-30')\t1\t-1.0\t1\t0\t0\n",
    "('AAAGATGAGAAACGAG', 'exon-NM_000945.4-6')\t1\t-1.0\t1\t0\t0\n",
    "('AAAGATGAGAAACGAG', 'exon-NM_000968.4-10')\t43\t8.0\t43\t0\t0\n",
    "('AAAGATGAGAAACGAG', 'exon-NM_000976.4-1')\t5\t8.0\t5\t0\t0\n",
    "('AAAGATGAGAAACGAG', 'exon-NM_000976.4-3')\t1\t-1.0\t1\t0\t0\n",
    "('AAAGATGAGAAACGAG', 'exon-NM_000976.4-6')\t8\t8.0\t8\t0\t0\n",
    "('AAAGATGAGAAACGAG', 'exon-NM_000978.4-3')\t8\t7.0\t8\t0\t0\n",
    "('AAAGATGAGAAACGAG', 'exon-NM_000978.4-4')\t8\t7.0\t8\t0\t0"
   ]
  },
  {
   "cell_type": "markdown",
   "id": "fcbc1fcb",
   "metadata": {},
   "source": [
    "the first column: average edit distance between UMIs at genomic positions\n",
    "\n",
    "important! the second column: dedup UMI counts (corresponding to the number of DNA molecules/transcripts) at a given gene-by-cell type\n",
    "\n",
    "the third column: average edit distance between UMIs at a given gene-by-cell type\n",
    "\n",
    "the forth column: unique UMI counts at a given gene-by-cell type\n",
    "    \n",
    "the fifth column: difference in the number of dedup UMI counts and original unique UMI counts\n",
    "    \n",
    "the sixth column: difference in the number of dedup reads and original reads"
   ]
  },
  {
   "cell_type": "markdown",
   "id": "99418dcf",
   "metadata": {},
   "source": [
    "..."
   ]
  }
 ],
 "metadata": {
  "kernelspec": {
   "display_name": "Python [conda env:deepumi] *",
   "language": "python",
   "name": "conda-env-deepumi-py"
  },
  "language_info": {
   "codemirror_mode": {
    "name": "ipython",
    "version": 3
   },
   "file_extension": ".py",
   "mimetype": "text/x-python",
   "name": "python",
   "nbconvert_exporter": "python",
   "pygments_lexer": "ipython3",
   "version": "3.7.11"
  }
 },
 "nbformat": 4,
 "nbformat_minor": 5
}
