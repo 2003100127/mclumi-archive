{
 "cells": [
  {
   "cell_type": "markdown",
   "id": "5e14f538",
   "metadata": {},
   "source": [
    "# dedup_sc usage"
   ]
  },
  {
   "cell_type": "code",
   "execution_count": null,
   "id": "0055c362",
   "metadata": {},
   "outputs": [],
   "source": [
    "pip install mclumix"
   ]
  },
  {
   "cell_type": "code",
   "execution_count": null,
   "id": "d10dcf2f",
   "metadata": {},
   "outputs": [],
   "source": [
    "from mclumi.deduplicate.monomer.DedupSC import dedupSC"
   ]
  },
  {
   "cell_type": "code",
   "execution_count": null,
   "id": "ee91df3f",
   "metadata": {},
   "outputs": [],
   "source": [
    "umikit = dedupSC(\n",
    "        mode='internal',\n",
    "\n",
    "        # method='unique',\n",
    "        method='cluster',\n",
    "        # method='adjacency',\n",
    "        # method='directional',\n",
    "        # method='mcl',\n",
    "        # method='mcl_val',\n",
    "        # method='mcl_ed',\n",
    "\n",
    "        bam_fpn='example/data/assigned_sorted.bam',\n",
    "        gene_assigned_tag='XT',\n",
    "        gene_is_assigned_tag='XS',\n",
    "        mcl_fold_thres=1.5,\n",
    "        inflat_val=1.6,\n",
    "        exp_val=2,\n",
    "        iter_num=100,\n",
    "        verbose=True,\n",
    "        ed_thres=6,\n",
    "        is_sv=False,\n",
    "        sv_fpn='example/data/sc/' + '' + 'assigned_sorted_dedup.bam',\n",
    "    )"
   ]
  }
 ],
 "metadata": {
  "kernelspec": {
   "display_name": "Python [conda env:deepumi] *",
   "language": "python",
   "name": "conda-env-deepumi-py"
  },
  "language_info": {
   "codemirror_mode": {
    "name": "ipython",
    "version": 3
   },
   "file_extension": ".py",
   "mimetype": "text/x-python",
   "name": "python",
   "nbconvert_exporter": "python",
   "pygments_lexer": "ipython3",
   "version": "3.7.11"
  }
 },
 "nbformat": 4,
 "nbformat_minor": 5
}
