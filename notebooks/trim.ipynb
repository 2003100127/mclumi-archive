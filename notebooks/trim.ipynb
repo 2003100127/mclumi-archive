{
 "cells": [
  {
   "cell_type": "markdown",
   "id": "74e4a173",
   "metadata": {},
   "source": [
    "# trim usage Python inline"
   ]
  },
  {
   "cell_type": "code",
   "execution_count": null,
   "id": "ef481a74",
   "metadata": {},
   "outputs": [],
   "source": [
    "from mclumi.trim.Fixed import fixed\n",
    "params = {\n",
    "        'umi_1': {\n",
    "            'len': 12,\n",
    "        },\n",
    "        'umi_2': {\n",
    "            'len': 10,\n",
    "        },\n",
    "        'umi_3': {\n",
    "            'len': 12,\n",
    "        },\n",
    "        'primer_1': {\n",
    "            'len': 20,\n",
    "        },\n",
    "        'primer_2': {\n",
    "            'len': 20,\n",
    "        },\n",
    "        'seq_1': {\n",
    "            'len': 6,\n",
    "        },\n",
    "        'seq_2': {\n",
    "            'len': 8,\n",
    "        },\n",
    "        # 'read_struct': 'umi_1+seq_1',\n",
    "        'read_struct': 'primer_1+umi_1+seq_1+umi_2+primer_2',\n",
    "        # 'read_struct': 'primer_1+umi_1+seq_1+seq_2+umi_2+umi_3+primer_2',\n",
    "        'fastq': {\n",
    "            'fpn': 'pcr_1.fastq.gz',\n",
    "            'trimmed_fpn': 'pcr_1_trim.fastq.gz',\n",
    "        },\n",
    "    }\n",
    "p = fixed(\n",
    "    mode='internal',\n",
    "    params=params,\n",
    ")\n",
    "p.call()"
   ]
  },
  {
   "cell_type": "code",
   "execution_count": null,
   "id": "50a7c258",
   "metadata": {},
   "outputs": [],
   "source": [
    "22/10/2021 20:03:28 logger: run Mclumi internally.\n",
    "22/10/2021 20:03:28 logger: Your params for trimming UMIs are: \n",
    "{'umi_1': {'len': 12}, 'umi_2': {'len': 10}, 'umi_3': {'len': 12}, 'primer_1': {'len': 20}, 'primer_2': {'len': 20}, 'seq_1': {'len': 6}, 'seq_2': {'len': 8}, 'read_struct': 'primer_1+umi_1+seq_1+umi_2+primer_2', 'fastq': {'fpn': 'pcr_1.fastq.gz', 'trimmed_fpn': 'pcr_1_trim.fastq.gz'}}\n",
    "22/10/2021 20:03:28 logger: ===>reading from fastq...\n",
    "22/10/2021 20:03:28 logger: ===>umi structure: primer_1+umi_1+seq_1+umi_2+primer_2\n",
    "22/10/2021 20:03:28 logger: ===>umi positions in the read structure: 1, 3\n",
    "22/10/2021 20:03:28 logger: ===>seq positions in the read structure: 2\n",
    "22/10/2021 20:03:28 logger: ======>finding the starting positions of all UMIs...\n",
    "22/10/2021 20:03:28 logger: =========>umi_1 starting position: 20\n",
    "22/10/2021 20:03:28 logger: =========>umi_2 starting position: 38\n",
    "22/10/2021 20:03:28 logger: ======>finding the starting positions of all genomic sequence...\n",
    "22/10/2021 20:03:28 logger: =========>seq_1 starting position: 32\n",
    "22/10/2021 20:03:28 logger: ===>umi_1 has been taken out\n",
    "22/10/2021 20:03:28 logger: ===>umi_2 has been taken out\n",
    "22/10/2021 20:03:28 logger: ===>seq_1 has been taken out\n",
    "22/10/2021 20:03:28 logger: ===>start saving in gz format...\n",
    "22/10/2021 20:03:28 logger: ===>trimmed UMIs have been saved in gz format."
   ]
  }
 ],
 "metadata": {
  "kernelspec": {
   "display_name": "Python [conda env:deepumi] *",
   "language": "python",
   "name": "conda-env-deepumi-py"
  },
  "language_info": {
   "codemirror_mode": {
    "name": "ipython",
    "version": 3
   },
   "file_extension": ".py",
   "mimetype": "text/x-python",
   "name": "python",
   "nbconvert_exporter": "python",
   "pygments_lexer": "ipython3",
   "version": "3.7.11"
  }
 },
 "nbformat": 4,
 "nbformat_minor": 5
}
